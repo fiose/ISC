{
 "cells": [
  {
   "cell_type": "markdown",
   "metadata": {
    "id": "iHySBXY29w-y"
   },
   "source": [
    "<h1><center>Practical: ResNet for image classification</center></h1>\n",
    "\n",
    "In this assignment, you will get some hands-on experiences in using a convolutional neural network, in particular the ResNet-18.\n",
    "\n",
    "\n",
    "For this assignment, you are highly recommended to use google Colab to set up your experimental environment. Colab is a free online platform to enable write and execute arbitrary python code through the browser. It is a hosted Jupyter notebook service that requires no setup to use, while providing free access to computing resources including GPUs. For detailed information, please have a look at [here](https://colab.research.google.com/). \n",
    "\n",
    "\n",
    "Ps: The codes we use in this assignment are partly taken from [this](https://github.com/kuangliu/pytorch-cifar) Github repository. If you are interested in the full version with more examples of other CNN architectures, please check the repo. "
   ]
  },
  {
   "cell_type": "markdown",
   "metadata": {
    "id": "5BzFFvW0P4ra"
   },
   "source": [
    "**Assignment 3 -- Get a running ResNet for image classfication**\n",
    "\n"
   ]
  },
  {
   "cell_type": "markdown",
   "metadata": {
    "id": "g6CS3AbMJr9k"
   },
   "source": [
    "Step 1: Upload the file 'Practical2.ipynb' to your google drive and then open it through colab. "
   ]
  },
  {
   "cell_type": "markdown",
   "metadata": {
    "id": "Kj18VOESKHXg"
   },
   "source": [
    "Step 2: In Nestor, you will find the PyTorch implementation of the ResNet18. Upzip the file and upload the folder to your google drive."
   ]
  },
  {
   "cell_type": "markdown",
   "metadata": {
    "id": "s87D7Km5Ka8e"
   },
   "source": [
    "Step 3: Mount your Google Drive to the colab notebook through the code snippet below."
   ]
  },
  {
   "cell_type": "code",
   "execution_count": null,
   "metadata": {
    "id": "UX6fFoHGKs8f"
   },
   "outputs": [],
   "source": [
    "from google.colab import drive\n",
    "\n",
    "drive.mount('/content/gdrive')"
   ]
  },
  {
   "cell_type": "markdown",
   "metadata": {
    "id": "Gdgl4gpsNQU7"
   },
   "source": [
    "Step 4: Execute the code! Before running it, make sure to set **Runtime > change Runtime type to 'GPU'**. Otherwise it may take forever to run the code. "
   ]
  },
  {
   "cell_type": "code",
   "execution_count": null,
   "metadata": {
    "id": "I_Djt8awCYTr"
   },
   "outputs": [],
   "source": [
    "!python /content/gdrive/MyDrive/your_project_folder/ResNet18_cifar10/main.py  #change 'your_project_folder' to your project folder "
   ]
  },
  {
   "cell_type": "markdown",
   "metadata": {
    "id": "8oS84QXuU82N"
   },
   "source": [
    "Step 5: Observe the results you got, e.g. the loss and accuracy for a certain epoch(iteration). Describe the results you got in terms of loss and accuracy as epoch increases. "
   ]
  },
  {
   "cell_type": "markdown",
   "metadata": {
    "id": "T36qLb0aVZrt"
   },
   "source": [
    "Your Answer:"
   ]
  },
  {
   "cell_type": "markdown",
   "metadata": {
    "id": "lvVWG4cJVp79"
   },
   "source": [
    "**Assignment 4 -- Understand and tweak the codes**\n"
   ]
  },
  {
   "cell_type": "markdown",
   "metadata": {
    "id": "s-h1b-2wWPLl"
   },
   "source": [
    "Read line by line and understand the codes as much as you can.  "
   ]
  },
  {
   "cell_type": "markdown",
   "metadata": {
    "id": "SUeOkNrSXVZc"
   },
   "source": [
    "*Questions-Data:*\n",
    "1. Briefly describe **Cifar10** dataset used in this implementation, incl. what kinds of images and the categories.\n",
    "\n",
    "2. what are the **transformations** used in data augmentation? hint: check the function *transforms.Compose()*."
   ]
  },
  {
   "cell_type": "markdown",
   "metadata": {
    "id": "ueS0X95oalfm"
   },
   "source": [
    "Your answer here:"
   ]
  },
  {
   "cell_type": "markdown",
   "metadata": {
    "id": "pTjCXOgXaRtA"
   },
   "source": [
    "*Questions-Model:*\n",
    "3. What is the **optimizer**? what is the initial learning rate? You can change the value of the initial learning rate and check how it influence the model training (fast or slow convergence).\n",
    "\n",
    "4. Confirm the sizes of the feature maps after each convolution block. Try to print/display the feature maps. You will need library as 'matplotlib' or 'plotly' to visualize the images."
   ]
  },
  {
   "cell_type": "markdown",
   "metadata": {
    "id": "NX5F62Qzavsq"
   },
   "source": [
    "Your answer here:"
   ]
  },
  {
   "cell_type": "markdown",
   "metadata": {
    "id": "i3b9KIeE37kH"
   },
   "source": [
    "**If you can not get your answers for any of the above questions, please also provide an explanation (e.g. the error messages you got). For a collection of certain questions, I will provide a solution/clarification.**"
   ]
  }
 ],
 "metadata": {
  "accelerator": "GPU",
  "colab": {
   "collapsed_sections": [],
   "name": "Practical2.ipynb",
   "provenance": []
  },
  "kernelspec": {
   "display_name": "Python 3",
   "language": "python",
   "name": "python3"
  },
  "language_info": {
   "codemirror_mode": {
    "name": "ipython",
    "version": 3
   },
   "file_extension": ".py",
   "mimetype": "text/x-python",
   "name": "python",
   "nbconvert_exporter": "python",
   "pygments_lexer": "ipython3",
   "version": "3.7.6"
  }
 },
 "nbformat": 4,
 "nbformat_minor": 1
}
