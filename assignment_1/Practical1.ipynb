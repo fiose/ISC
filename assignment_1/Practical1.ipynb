{
 "cells": [
  {
   "source": [
    "<h1><center>Practical: Tomography for binary pictures</center></h1>\n",
    "\n",
    "In this practical you will implement the ART algorithm for two-dimensional tomographic reconstruction in Matlab.\n",
    "Here we consider a special case:\n",
    "\n",
    "- The pictures are black and white. That is, the pixel values are 0 or 1.\n",
    "- We use projections in only two directions: horizontal and vertical.\n",
    "\n",
    "We work with three test pictures *rectangle.png*, *oval.png*, and *rock.png*, which you can find in the archive *Practical_Tomography.zip* in Nestor. The pixel values of these pictures are 0 or 1.\n",
    "\n",
    "<h2>Assignment 1 - Computation of the horizontal and vertical projections (30)</h2>\n",
    "Start Matlab, and load the picture <em>rectangle.png</em> via the commands:"
   ],
   "cell_type": "markdown",
   "metadata": {}
  },
  {
   "cell_type": "code",
   "execution_count": null,
   "metadata": {},
   "outputs": [],
   "source": [
    "import cv2\n",
    "\n",
    "imname = 'rectangle'\n",
    "impath = 'Practical_Tomography/' + imname + '.png'\n",
    "A = cv2.imread(impath)"
   ]
  },
  {
   "cell_type": "markdown",
   "metadata": {},
   "source": [
    "The 2D array A now contains the pixel values of the picture *rectangle.png*. Let n be the number of rows of A. The number of columns of A is n as well (check this).\n",
    "\n",
    "- (15pt) Compute the column sums of A, and store the result in a vector *colsum*, which will have n elements. Compute the row sums of A, and store the result in a vector *rowsum*, which also will have n elements."
   ]
  },
  {
   "cell_type": "code",
   "execution_count": null,
   "metadata": {},
   "outputs": [],
   "source": [
    "# Insert Code Here"
   ]
  },
  {
   "cell_type": "markdown",
   "metadata": {},
   "source": [
    "- (10pt) Save the column and row sums in a file <em>rectangle_HVproj.mat</em> via the commands:"
   ]
  },
  {
   "cell_type": "code",
   "execution_count": null,
   "metadata": {},
   "outputs": [],
   "source": [
    "import scipy.io\n",
    "\n",
    "#replace 0s with the matching variable\n",
    "matlab_result = {\"colsum\": 0, \"rowsum\": 0}\n",
    "\n",
    "projfile = imname + '_HVproj' + '.mat'\n",
    "scipy.io.savemat(projfile, matlab_result)"
   ]
  },
  {
   "cell_type": "markdown",
   "metadata": {},
   "source": [
    "The *_HVproj* label indicates that you only computed horizontal and vertical projections.\n",
    "\n",
    "- (5pt) Use your program to save the column and row sums of the picture *oval.png* to a file, and do thesame for *rock.png*. Save your program in a file with name *projections_HV.m*. If you use the live script, you may directly place your code inside the block below:"
   ]
  },
  {
   "cell_type": "code",
   "execution_count": null,
   "metadata": {},
   "outputs": [],
   "source": [
    "# Insert Code Here"
   ]
  },
  {
   "cell_type": "markdown",
   "metadata": {},
   "source": [
    "<h2>Assignment 2 - Reconstruction from horizontal and vertical projections (70)</h2>\n",
    "\n",
    "Now you will implement the Kacmarz reconstruction algorithm for binary images in Python. Call the file with your implementation *tomography_HV.m*.\n",
    "Start by loading the projection data of the picture <em>rectangle.png</em> via the commands:\n"
   ]
  },
  {
   "cell_type": "code",
   "execution_count": null,
   "metadata": {},
   "outputs": [],
   "source": [
    "import scipy.io\n",
    "\n",
    "imname = 'rectangle'\n",
    "projfile = imname + '_HVproj' + '.mat'\n",
    "matlab_result = scipy.io.loadmat(projfile)"
   ]
  },
  {
   "cell_type": "markdown",
   "metadata": {},
   "source": [
    "The variables *colsum* and *rowsum* now contain the column and row sums of the picture *rectangle.png*.\n",
    "\n",
    "- (30pt) Implement Algorithm 2.2 from the syllabus in Matlab. We use the matrix representation of a picture. To test your program it can be useful to take a small n × n-matrix A as input. You can generate such a matrix with random zeroes and ones via the rand function, e.g.: "
   ]
  },
  {
   "cell_type": "code",
   "execution_count": null,
   "metadata": {},
   "outputs": [],
   "source": [
    "import numpy as np\n",
    "\n",
    "n = 4\n",
    "random_matrix_array = np.random.uniform(low=0, high=0.5, size=(n,n))"
   ]
  },
  {
   "cell_type": "markdown",
   "metadata": {},
   "source": [
    "For the initialization you can use an n × n matrix f(0) with zeroes. Initially set MAX_ITER to 1. When your program is complete you can use a value for MAX_ITER in the range 100-200."
   ]
  },
  {
   "cell_type": "code",
   "execution_count": null,
   "metadata": {},
   "outputs": [],
   "source": [
    "# Insert Code Here"
   ]
  },
  {
   "cell_type": "markdown",
   "metadata": {},
   "source": [
    "Tips:\n",
    "\n",
    "- Algorithm 2.2 contains a for-loop over the n column sums and a for-loop over the n row sums. First implement one of these for-loops.\n",
    "- The essential step concerns lines 8-9 and 14-15, where the update of the current approximation of the solution takes place.\n",
    "- The essential step concerns lines 8-9 and 14-15, where the update of the current approximation of the solution takes place. <u>Avoid extra loops as much as possible</u>. Use the vectorisations of Numpy: you can compute all row or column sums in one go by the routine sum. A complete column or row i of a matrix f you obtain via *f(:, i)* or *f(i, :)*, respectively. Subtracting the same number β from a complete row or column can be easily done via the function ones(). Use Google.\n",
    "- The constraints in line 10 and 16 can be enforced by applying the Python functions min and max to a complete row or column.\n",
    "- The double summation in line 18 can be computed easily (that is, without loops) by using the Matlab sum and abs functions.\n",
    "- To follow the progression during the iteration process it is convenient to add a print statement after line 20, for example:"
   ]
  },
  {
   "cell_type": "code",
   "execution_count": null,
   "metadata": {},
   "outputs": [],
   "source": [
    "#Open file at the beginning of script\n",
    "filename = open(\"filename\", 'w')\n",
    "\n",
    "print('k =', k, 'delta =', delta, file=filename)\n",
    "\n",
    "#Close file when no longer needed\n",
    "filename.close()"
   ]
  },
  {
   "cell_type": "markdown",
   "metadata": {},
   "source": [
    "where delta is the value of the double sum in line 18.\n",
    "\n",
    "- (5pt) Apply your program to the picture rectangle.png, and use the *imwrite* function to save the result as a picture in PNG format. You might also add the final value of k and the used value of epsilon to the file name, e.g.,\n"
   ]
  },
  {
   "cell_type": "code",
   "execution_count": null,
   "metadata": {},
   "outputs": [],
   "source": [
    "import cv2\n",
    "\n",
    "recfile = imname + '_HVrec_' + '_k = ' + str(k) + '_eps = ' + str(eps) + '.png'\n",
    "cv2.imwrite(recfile, modified_rectangle)"
   ]
  },
  {
   "cell_type": "markdown",
   "metadata": {},
   "source": [
    "This is convenient when you carry out several experiments with different values of these parameters."
   ]
  },
  {
   "cell_type": "code",
   "execution_count": null,
   "metadata": {},
   "outputs": [],
   "source": [
    "# Insert Code Here"
   ]
  },
  {
   "cell_type": "markdown",
   "metadata": {},
   "source": [
    "- (5pt) Add a line to your code in which the relative error *E* between the input array A and the reconstruction *f* is computed, that is, the quantity\n",
    "\n",
    "$E = ||f^{(k^{*})} - A|| := \\frac{1}{n^{2}}\\sum_{r = 1}^{n}\\sum_{c = 1}^{n} |f_{r,c}^{k^{*}} - A_{r,c}|$\n",
    "\n",
    "where $k^{*}$ is the value of the loop variable k at which the algorithm terminated, and $f^{k^{*}}$ is the corresponding reconstruction. "
   ]
  },
  {
   "cell_type": "code",
   "execution_count": null,
   "metadata": {},
   "outputs": [],
   "source": [
    "# Insert Code Here"
   ]
  },
  {
   "cell_type": "markdown",
   "metadata": {},
   "source": [
    "- (5pt) To see at which pixel locations the differences between input and reconstruction occur it is convenient to compute a difference picture $dif = f^{k^{*}} - A$. Add a line to your code to do this and save the result again as a picture in PNG format, for example as follows:"
   ]
  },
  {
   "cell_type": "code",
   "execution_count": null,
   "metadata": {},
   "outputs": [],
   "source": [
    "import cv2\n",
    "\n",
    "diffile = imname + '_HVdif_' + '_k = ' + str(k) + '_eps = ' + str(eps) + '.png'\n",
    "cv2.imwrite(diffile, dif)"
   ]
  },
  {
   "cell_type": "code",
   "execution_count": null,
   "metadata": {},
   "outputs": [],
   "source": [
    "# Insert Code Here"
   ]
  },
  {
   "cell_type": "markdown",
   "metadata": {},
   "source": [
    "- (5pt) Repeat the steps above for the pictures *oval.png* and *rock.png*."
   ]
  },
  {
   "cell_type": "code",
   "execution_count": null,
   "metadata": {},
   "outputs": [],
   "source": [
    "# Insert Code Here"
   ]
  },
  {
   "cell_type": "markdown",
   "metadata": {},
   "source": [
    "- (20pt) Describe your experiments, the values of the parameters that were used, and the relative error values obtained. For each of the input pictures, include three pictures in a row in your report: the input picture, the reconstruction picture, and the difference picture. Discuss the results. Explain the differences between the reconstruction quality of the various input pictures."
   ]
  }
 ],
 "metadata": {
  "kernelspec": {
   "name": "python3",
   "display_name": "Python 3",
   "language": "python"
  },
  "language_info": {
   "codemirror_mode": {
    "name": "ipython",
    "version": 3
   },
   "file_extension": ".py",
   "mimetype": "text/x-python",
   "name": "python",
   "nbconvert_exporter": "python",
   "pygments_lexer": "ipython3",
   "version": "3.8.5-final"
  }
 },
 "nbformat": 4,
 "nbformat_minor": 4
}