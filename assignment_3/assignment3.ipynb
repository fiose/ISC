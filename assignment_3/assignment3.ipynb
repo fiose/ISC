{
 "cells": [
  {
   "cell_type": "markdown",
   "source": [
    "### Introduction to Scientific Computing, Practical Markov Chains\n",
    "Breno Cunha Queiroz s5091047\\\n",
    "Lukke van der Wal s4076788\\\n",
    "mar 14, 2022"
   ],
   "metadata": {
    "id": "peCnBS4jD02T"
   }
  },
  {
   "cell_type": "markdown",
   "metadata": {
    "collapsed": true,
    "pycharm": {
     "name": "#%%\n"
    },
    "id": "zVpO4T4p8dhR"
   },
   "source": [
    "<h1><center>Practical: Markov Chains</center></h1>\n",
    "\n",
    "<h2>Assignment 3 - PageRank </h2>\n",
    "\n",
    "In this assignment, the aim is to implement the PageRank algorithm, and analyze the effect of teleporting factor on the output of the algorithm."
   ]
  },
  {
   "cell_type": "markdown",
   "metadata": {
    "pycharm": {
     "name": "#%%\n"
    },
    "id": "stsXEvof8dhW"
   },
   "source": [
    "### Importing necessary packages"
   ]
  },
  {
   "cell_type": "code",
   "execution_count": 26,
   "metadata": {
    "colab": {
     "base_uri": "https://localhost:8080/"
    },
    "id": "p5aPioxh8dhX",
    "outputId": "7debeddb-f0fd-4f79-d91f-dedbdc695a82"
   },
   "outputs": [
    {
     "name": "stdout",
     "output_type": "stream",
     "text": [
      "Requirement already satisfied: matplotlib in c:\\users\\lukke\\appdata\\local\\packages\\pythonsoftwarefoundation.python.3.10_qbz5n2kfra8p0\\localcache\\local-packages\\python310\\site-packages (3.5.1)\n",
      "Requirement already satisfied: numpy>=1.17 in c:\\users\\lukke\\appdata\\local\\packages\\pythonsoftwarefoundation.python.3.10_qbz5n2kfra8p0\\localcache\\local-packages\\python310\\site-packages (from matplotlib) (1.22.3)\n",
      "Requirement already satisfied: kiwisolver>=1.0.1 in c:\\users\\lukke\\appdata\\local\\packages\\pythonsoftwarefoundation.python.3.10_qbz5n2kfra8p0\\localcache\\local-packages\\python310\\site-packages (from matplotlib) (1.3.2)\n",
      "Requirement already satisfied: pyparsing>=2.2.1 in c:\\users\\lukke\\appdata\\local\\packages\\pythonsoftwarefoundation.python.3.10_qbz5n2kfra8p0\\localcache\\local-packages\\python310\\site-packages (from matplotlib) (3.0.7)\n",
      "Requirement already satisfied: fonttools>=4.22.0 in c:\\users\\lukke\\appdata\\local\\packages\\pythonsoftwarefoundation.python.3.10_qbz5n2kfra8p0\\localcache\\local-packages\\python310\\site-packages (from matplotlib) (4.29.1)\n",
      "Requirement already satisfied: cycler>=0.10 in c:\\users\\lukke\\appdata\\local\\packages\\pythonsoftwarefoundation.python.3.10_qbz5n2kfra8p0\\localcache\\local-packages\\python310\\site-packages (from matplotlib) (0.11.0)\n",
      "Requirement already satisfied: packaging>=20.0 in c:\\users\\lukke\\appdata\\local\\packages\\pythonsoftwarefoundation.python.3.10_qbz5n2kfra8p0\\localcache\\local-packages\\python310\\site-packages (from matplotlib) (21.3)\n",
      "Requirement already satisfied: python-dateutil>=2.7 in c:\\users\\lukke\\appdata\\local\\packages\\pythonsoftwarefoundation.python.3.10_qbz5n2kfra8p0\\localcache\\local-packages\\python310\\site-packages (from matplotlib) (2.8.2)\n",
      "Requirement already satisfied: pillow>=6.2.0 in c:\\users\\lukke\\appdata\\local\\packages\\pythonsoftwarefoundation.python.3.10_qbz5n2kfra8p0\\localcache\\local-packages\\python310\\site-packages (from matplotlib) (9.0.1)\n",
      "Requirement already satisfied: six>=1.5 in c:\\users\\lukke\\appdata\\local\\packages\\pythonsoftwarefoundation.python.3.10_qbz5n2kfra8p0\\localcache\\local-packages\\python310\\site-packages (from python-dateutil>=2.7->matplotlib) (1.16.0)\n",
      "Requirement already satisfied: numpy in c:\\users\\lukke\\appdata\\local\\packages\\pythonsoftwarefoundation.python.3.10_qbz5n2kfra8p0\\localcache\\local-packages\\python310\\site-packages (1.22.3)\n"
     ]
    },
    {
     "name": "stderr",
     "output_type": "stream",
     "text": [
      "WARNING: You are using pip version 21.2.4; however, version 22.0.4 is available.\n",
      "You should consider upgrading via the 'C:\\Users\\lukke\\AppData\\Local\\Microsoft\\WindowsApps\\PythonSoftwareFoundation.Python.3.10_qbz5n2kfra8p0\\python.exe -m pip install --upgrade pip' command.\n",
      "WARNING: You are using pip version 21.2.4; however, version 22.0.4 is available.\n",
      "You should consider upgrading via the 'C:\\Users\\lukke\\AppData\\Local\\Microsoft\\WindowsApps\\PythonSoftwareFoundation.Python.3.10_qbz5n2kfra8p0\\python.exe -m pip install --upgrade pip' command.\n"
     ]
    }
   ],
   "source": [
    "# if you have already installed numpy and matplotlib, you can skip the next two lines\n",
    "!pip install matplotlib\n",
    "!pip install numpy\n",
    "\n",
    "import numpy as np\n",
    "from numpy import linalg as LA\n",
    "import matplotlib.pyplot as plt"
   ]
  },
  {
   "cell_type": "code",
   "execution_count": 27,
   "metadata": {
    "id": "Q7s7Jctz8dhZ"
   },
   "outputs": [],
   "source": [
    "# constructing the connectivity matrix\n",
    "A = np.array([[1,1,0],[1,0,1],[0,0,1]])"
   ]
  },
  {
   "cell_type": "markdown",
   "metadata": {
    "id": "lTtb69CJ8dha"
   },
   "source": [
    "## Implementing the elements of the PageRank algorithm\n",
    "\n",
    "\n",
    "In order to perform the algorithm, we define the following functions:\n",
    "- normalize_conn_matrix: computing the transition probability from the connecting matrix,\n",
    "- appr_stationary: compute the stationary distribution, based on x(t) = x(t-1) . T,\n",
    "- dead_end: to prevent dead end problem,\n",
    "- teleporting_factor: to resolve spider trap, \n",
    "\n",
    "Hint. you may use \"np.matmul\" function for the matrix multiplication."
   ]
  },
  {
   "cell_type": "code",
   "execution_count": 28,
   "metadata": {
    "id": "VQnACU-W8dhb"
   },
   "outputs": [],
   "source": [
    "def normalize_conn_matrix(A):\n",
    "    \"\"\"\n",
    "    A: (n*n) connectivity matrix\n",
    "    T: transition probabilities\n",
    "    \"\"\"\n",
    "    n = A.shape[0]\n",
    "    T = np.zeros((n,n))\n",
    "\n",
    "    # Calculate probability for each row\n",
    "    probs = 1/A.sum(axis=1)\n",
    "\n",
    "    # Create transition probabilities\n",
    "    T = (A.T*probs).T\n",
    "    \n",
    "    return T\n",
    "\n",
    "#print(normalize_conn_matrix(A))"
   ]
  },
  {
   "cell_type": "code",
   "execution_count": 29,
   "metadata": {
    "colab": {
     "base_uri": "https://localhost:8080/"
    },
    "id": "7bNb5Wbl8dhb",
    "outputId": "2ab91cad-8521-4990-a081-35c01e4fade1"
   },
   "outputs": [
    {
     "name": "stdout",
     "output_type": "stream",
     "text": [
      "[[0.5 0.5 0. ]\n",
      " [0.5 0.  0.5]\n",
      " [0.  0.  1. ]]\n",
      "\n",
      " Expected solution:\n",
      "[[0.5 0.5 0. ] \n",
      " [0.5 0.  0.5] \n",
      "  [0.  0.  1. ]]\n"
     ]
    }
   ],
   "source": [
    "# Test your code\n",
    "T = normalize_conn_matrix(A)\n",
    "print(T)\n",
    "\n",
    "print(\"\\n Expected solution:\")\n",
    "print(\"[[0.5 0.5 0. ] \\n [0.5 0.  0.5] \\n  [0.  0.  1. ]]\")"
   ]
  },
  {
   "cell_type": "code",
   "execution_count": 30,
   "metadata": {
    "id": "Xjo8I26F8dhc"
   },
   "outputs": [],
   "source": [
    "def appr_stationary(T, maxiter=20):\n",
    "    \"\"\"\n",
    "    T: transition probability,\n",
    "    maxiter: number of steps\n",
    "    x_m: the state vector\n",
    "    \"\"\"\n",
    "    \n",
    "    n = len(T[0])\n",
    "    x = [[1/n] * n]\n",
    "    for i in range(1, maxiter+1):\n",
    "        x.append(np.matmul(x[i-1], T))\n",
    "    x_m = x[maxiter]\n",
    "    \n",
    "    return x_m"
   ]
  },
  {
   "cell_type": "code",
   "execution_count": 31,
   "metadata": {
    "colab": {
     "base_uri": "https://localhost:8080/"
    },
    "id": "ywyPvXZK8dhd",
    "outputId": "b67083c3-c671-4048-8dfb-57e68f8cf03d"
   },
   "outputs": [
    {
     "name": "stdout",
     "output_type": "stream",
     "text": [
      "[0.00563018 0.00347964 0.99089019]\n",
      "\n",
      " Expected solution:\n",
      "[[0.00563018 0.00347964 0.99089019]]\n"
     ]
    }
   ],
   "source": [
    "# Test your code\n",
    "st_dist = appr_stationary(T, maxiter=20)\n",
    "print(st_dist)\n",
    "\n",
    "print(\"\\n Expected solution:\")\n",
    "print(\"[[0.00563018 0.00347964 0.99089019]]\")\n"
   ]
  },
  {
   "cell_type": "code",
   "execution_count": 32,
   "metadata": {
    "id": "Zu0o-_Mn8dhe"
   },
   "outputs": [],
   "source": [
    "def dead_end(A):\n",
    "    \"\"\"\n",
    "    A: connecting matrix\n",
    "    A_new: connecting matrix by resolving the dead end problem\n",
    "    \"\"\"\n",
    "    probs = A.sum(axis=1)\n",
    "    probs = [ 1 if v == 0 else 0 for v in probs ]\n",
    "    \n",
    "    A_new = A\n",
    "    for i, v in enumerate(probs):\n",
    "        if v == 1:\n",
    "            A_new[i] = [1]*A.shape[0]\n",
    "    \n",
    "    return A_new\n",
    "\n",
    "#B = np.array([[1,1,1], [1,0,1], [0, 0, 0]])\n",
    "#print(dead_end(B))"
   ]
  },
  {
   "cell_type": "code",
   "execution_count": 33,
   "metadata": {
    "colab": {
     "base_uri": "https://localhost:8080/"
    },
    "id": "XSiGQjEb8dhe",
    "outputId": "e319f7ae-58c8-4e15-a536-a88844873423"
   },
   "outputs": [
    {
     "name": "stdout",
     "output_type": "stream",
     "text": [
      "[[1 1 0]\n",
      " [1 0 1]\n",
      " [0 0 1]]\n",
      "\n",
      " Expected output:\n",
      "[[1 1 0] \n",
      " [1 0 1] \n",
      " [0 0 1]]\n"
     ]
    }
   ],
   "source": [
    "print(dead_end(A))\n",
    "\n",
    "print(\"\\n Expected output:\")\n",
    "print(\"[[1 1 0] \\n [1 0 1] \\n [0 0 1]]\")"
   ]
  },
  {
   "cell_type": "code",
   "execution_count": 34,
   "metadata": {
    "id": "EY9Y3f-P8dhf"
   },
   "outputs": [],
   "source": [
    "def teleporting_factor(T, alpha=0.9):\n",
    "    \"\"\"\n",
    "    T: transition probability,\n",
    "    alpha: teleporting factor.\n",
    "    T_new: transition probability after implementing teleporting factor\n",
    "    \"\"\"\n",
    "    \n",
    "    n = len(T[0])\n",
    "    T_new = np.zeros((n,n))\n",
    "    for r in range(n):\n",
    "        for c in range(n):\n",
    "            T_new[r][c] = alpha*T[r][c] + ((1-alpha) * (1/n))\n",
    "    return T_new"
   ]
  },
  {
   "cell_type": "code",
   "execution_count": 35,
   "metadata": {
    "colab": {
     "base_uri": "https://localhost:8080/"
    },
    "id": "7a4PHS_b8dhf",
    "outputId": "0431f739-902d-40fe-c36e-dfb04a06834c"
   },
   "outputs": [
    {
     "name": "stdout",
     "output_type": "stream",
     "text": [
      "[[0.48333333 0.48333333 0.03333333]\n",
      " [0.48333333 0.03333333 0.48333333]\n",
      " [0.03333333 0.03333333 0.93333333]]\n",
      "\n",
      " Expected output:\n",
      "[[0.48333333 0.48333333 0.03333333] \n",
      " [0.48333333 0.03333333 0.48333333] \n",
      " [0.03333333 0.03333333 0.93333333]]\n"
     ]
    }
   ],
   "source": [
    "print(teleporting_factor(T))\n",
    "\n",
    "print(\"\\n Expected output:\")\n",
    "print(\"[[0.48333333 0.48333333 0.03333333] \\n [0.48333333 0.03333333 0.48333333] \\n [0.03333333 0.03333333 0.93333333]]\")"
   ]
  },
  {
   "cell_type": "markdown",
   "metadata": {
    "id": "EOoiYJjl8dhg"
   },
   "source": [
    "## PageRank algorithm \n",
    "\n",
    "Here, we use the functions, defined above, to perform PageRank algorithm.\n",
    "   1) resolve the dead end problem,<br>\n",
    "   2) compute the transition probability, <br>\n",
    "   3) use teleporting factor to prevent spider trap,<br>\n",
    "   4) compute the stationary distribuion.<br>"
   ]
  },
  {
   "cell_type": "code",
   "execution_count": 36,
   "metadata": {
    "id": "BGOTnoqh8dhg"
   },
   "outputs": [],
   "source": [
    "def PageRank(A, alpha=0.8, maxiter=20):\n",
    "    \"\"\"\n",
    "    A: connectivity matrix,\n",
    "    alpha: teleporting factor,\n",
    "    maxiter: number of steps (for approximating stationary distribution)\n",
    "    st_dist: an approximation for the stationary distribution \n",
    "    \"\"\"\n",
    "    \n",
    "    A = dead_end(A)\n",
    "    T = normalize_conn_matrix(A)\n",
    "    T_new = teleporting_factor(T, alpha)\n",
    "    m_x = appr_stationary(T_new, maxiter)\n",
    "    st_dist = m_x\n",
    "    return st_dist"
   ]
  },
  {
   "cell_type": "code",
   "execution_count": 37,
   "metadata": {
    "colab": {
     "base_uri": "https://localhost:8080/"
    },
    "id": "WAuFWTLe8dhg",
    "outputId": "3994ac05-cc46-4b38-abfa-5f43899e36f8"
   },
   "outputs": [
    {
     "name": "stdout",
     "output_type": "stream",
     "text": [
      "[0.13910685 0.09593446 0.76495869]\n",
      "\n",
      " Expected output:\n",
      "[[0.13910008 0.09593028 0.76496964]]\n"
     ]
    }
   ],
   "source": [
    "print(PageRank(A, 0.9, 30))\n",
    "\n",
    "print(\"\\n Expected output:\")\n",
    "print(\"[[0.13910008 0.09593028 0.76496964]]\")"
   ]
  },
  {
   "cell_type": "markdown",
   "metadata": {
    "id": "JBdjPA-b8dhh"
   },
   "source": [
    "<h1><center>Analyzing PageRank algorithm</center></h1>\n",
    "\n",
    "<h2>Performing PageRank algorithm on the following network </h2>\n",
    "\n",
    "![Cat](graph.png)\n",
    "\n",
    "In the following, please perform:\n",
    "\n",
    "- Performing PageRank algorithm on the network,\n",
    "- Investigating the effect of teleporting "
   ]
  },
  {
   "cell_type": "markdown",
   "metadata": {
    "id": "bScCEEx28dhh"
   },
   "source": [
    "### 1) Perform PageRank algorithm\n",
    "\n",
    "Apply PageRank on the network (alpha = 0.85), and report the pageranks,\n",
    "   1) Construct the connectivity matrix, <br>\n",
    "   2) Apply PageRank algorithm (i.e. function \"PageRank\")"
   ]
  },
  {
   "cell_type": "code",
   "execution_count": 38,
   "metadata": {
    "colab": {
     "base_uri": "https://localhost:8080/",
     "height": 315
    },
    "id": "aigq0Q6-8dhh",
    "outputId": "7615eac1-f0da-4fc6-f617-4b49ee2a480c"
   },
   "outputs": [
    {
     "data": {
      "text/plain": "<matplotlib.legend.Legend at 0x1ad2f264dc0>"
     },
     "execution_count": 38,
     "metadata": {},
     "output_type": "execute_result"
    },
    {
     "data": {
      "text/plain": "<Figure size 432x288 with 1 Axes>",
      "image/png": "[encoded data removed]"
     },
     "metadata": {
      "needs_background": "light"
     },
     "output_type": "display_data"
    }
   ],
   "source": [
    "# Constructing connectivity matrix\n",
    "#     A  B  C  D  E  F  G  H  L  M  N\n",
    "G = np.array(\n",
    "    [[0, 0, 0, 0, 0, 0, 0, 0, 0, 0, 0],# A\n",
    "     [0, 0, 1, 0, 0, 0, 0, 0, 0, 0, 0],# B\n",
    "     [0, 1, 0, 0, 0, 0, 0, 0, 0, 0, 0],# C\n",
    "     [1, 1, 0, 0, 0, 0, 0, 0, 0, 0, 0],# D\n",
    "     [0, 1, 0, 1, 0, 1, 0, 0, 0, 0, 0],# E\n",
    "     [0, 1, 0, 0, 1, 0, 0, 0, 0, 0, 0],# F\n",
    "     [0, 1, 0, 0, 1, 0, 0, 0, 0, 0, 0],# G\n",
    "     [0, 1, 0, 0, 1, 0, 0, 0, 0, 0, 0],# H\n",
    "     [0, 1, 0, 0, 1, 0, 0, 0, 0, 0, 0],# L\n",
    "     [0, 0, 0, 0, 1, 0, 0, 0, 0, 0, 0],# M\n",
    "     [0, 0, 0, 0, 1, 0, 0, 0, 0, 0, 0] # N\n",
    "    ])\n",
    "\n",
    "# Run varying iterations\n",
    "it1 = PageRank(G, 0.9, 1)\n",
    "it3 = PageRank(G, 0.9, 3)\n",
    "it5 = PageRank(G, 0.9, 5)\n",
    "it30 = PageRank(G, 0.9, 30)\n",
    "it100 = PageRank(G, 0.9, 100)\n",
    "\n",
    "# Bar width and labels\n",
    "width = 0.2\n",
    "labels = ['A', 'B', 'C', 'D', 'E', 'F', 'G', 'H', 'L', 'M', 'N']\n",
    "x = np.arange(len(labels))\n",
    "fig, ax = plt.subplots()\n",
    "\n",
    "# Plot bars\n",
    "ax.bar(x-width*3/3, it1, width, label='iteration 1')\n",
    "ax.bar(x-width/3, it3, width, label='iteration 3')\n",
    "ax.bar(x+width/3, it5, width, label='iteration 5')\n",
    "ax.bar(x+width*3/3, it30, width, label='iteration 30')\n",
    "ax.bar(x+width*5/3, it30, width, label='iteration 100')\n",
    "\n",
    "# Add some text for labels, title and custom x-axis tick labels, etc.\n",
    "ax.set_ylabel('Page score')\n",
    "ax.set_title('Page score change across iterations')\n",
    "ax.set_xticks(x)\n",
    "ax.set_xticklabels(labels)\n",
    "ax.legend()"
   ]
  },
  {
   "cell_type": "markdown",
   "source": [
    "In the above Page score change across iterations graph we can see that there are big changes when going from\n",
    "`maxiter = 1` to `maxiter = 3`, `maxiter = 5` and then `maxiter = 30`,\n",
    "but when going from `maxiter = 30` to `maxiter = 100` the change stops. This shows that there is little to no\n",
    "improvement when doing more than 30 iterations.\n",
    "<br><br>\n",
    "We can also see that the change is bigger when sites are visited more often. The change in site A and C\n",
    "is easily visible. But the changes in site G, H, L, M, and N are quite small and stagnate at iteration `maxiter = 3`."
   ],
   "metadata": {
    "collapsed": false
   }
  },
  {
   "cell_type": "markdown",
   "metadata": {
    "id": "w3lAwABJ8dhi"
   },
   "source": [
    "### 2) The effect of spider trap\n",
    "\n",
    "In order to see the effect of spider trap on the output, please perform PageRank algorithm with different alpha values. <br>\n",
    "Run the algorithm with alpha = 1 (corresponding to not using the teleporting factor):<br>\n",
    "    - compare its output with alpha = 0.85, <br>\n",
    "    - please discuss the effect of teleporting factor on the stationary distribution. \n",
    "    "
   ]
  },
  {
   "cell_type": "code",
   "execution_count": 39,
   "metadata": {
    "colab": {
     "base_uri": "https://localhost:8080/",
     "height": 298
    },
    "id": "gG3UnuFo8dhi",
    "outputId": "0a1006c2-7513-493f-9834-dd609421bab7"
   },
   "outputs": [
    {
     "data": {
      "text/plain": "<matplotlib.legend.Legend at 0x1ad2f20b790>"
     },
     "execution_count": 39,
     "metadata": {},
     "output_type": "execute_result"
    },
    {
     "data": {
      "text/plain": "<Figure size 432x288 with 1 Axes>",
      "image/png": "[encoded data removed]"
     },
     "metadata": {
      "needs_background": "light"
     },
     "output_type": "display_data"
    }
   ],
   "source": [
    "# Run varying alpha\n",
    "alpha100 = PageRank(G, 1.0, 30)\n",
    "alpha085 = PageRank(G, 0.85, 30)\n",
    "alpha050 = PageRank(G, 0.5, 30)\n",
    "alpha000 = PageRank(G, 0.0, 30)\n",
    "\n",
    "# Bar width and labels\n",
    "width = 0.2\n",
    "labels = ['A', 'B', 'C', 'D', 'E', 'F', 'G', 'H', 'L', 'M', 'N']\n",
    "x = np.arange(len(labels))\n",
    "fig, ax = plt.subplots()\n",
    "\n",
    "# Plot bars\n",
    "ax.bar(x-width*3/2, alpha000, width, label='alpha 0.0')\n",
    "ax.bar(x-width/2, alpha050, width, label='alpha 0.5')\n",
    "ax.bar(x+width/2, alpha085, width, label='alpha 0.85')\n",
    "ax.bar(x+width*3/2, alpha100, width, label='alpha 1.0')\n",
    "\n",
    "# Add some text for labels, title and custom x-axis tick labels, etc.\n",
    "ax.set_ylabel('Page score')\n",
    "ax.set_title('Page score with different alphas')\n",
    "ax.set_xticks(x)\n",
    "ax.set_xticklabels(labels)\n",
    "ax.legend()"
   ]
  },
  {
   "cell_type": "markdown",
   "source": [
    "When `alpha = 0.0`, we have a random walk through the pages because each page is equally likely to be chosen at each step, which results in an equal score for all pages.\n",
    "\n",
    "When `alpha=1.0` the spider trap effect is not handled, which means that during a Markov Chain walk, when it reaches page B, it will be stuck between pages B and C forever. Because of this effect, we can see that the score is split between pages B and C, and the remaining pages have score zero. Note that this does not happen with A because page A is handled with the *dead end* algorithm.\n",
    "\n",
    "When `alpha = 0.85` the spider trap effect is handled, and a transition to any page can occur with probability greater than zero. Since there is no trap, the transition probability for any page is greater than zero. We can still see that pages B and C have a higher score than the others, which is expected as there are many transitions to B, and from B it is possible to make the transition to C."
   ],
   "metadata": {
    "id": "IbqvTKb3EKkB"
   }
  },
  {
   "cell_type": "markdown",
   "metadata": {
    "id": "j-OOR3i28dhi"
   },
   "source": [
    "---\n",
    "Write at the top of the first page of your report: “Introduction to Scientific Computing, Practical Markov Chains”, followed by your names, student numbers, and the date when you hand in the report.\n",
    "\n",
    "Since you work in pairs, you need to include information in your report about your individual contributions. For each assignment, indicate the contribution (mention percentages) for each of you in terms of tasks performed (program design, program implementation, answering questions posed, writing the report). All files have to be handed in as a single archive (called YourName.zip), where “YourName” is the concatenation of your last names. See Nestor for the address to which you have to send the archive."
   ]
  },
  {
   "cell_type": "markdown",
   "metadata": {
    "id": "JFsTLS1Y8dhi",
    "pycharm": {
     "name": "#%% md\n"
    }
   },
   "source": [
    "#### Implementing the elements of the PageRank algorithm\n",
    "    - normalize_conn_matrix: Breno 100%\n",
    "    - appr_stationary: Lukke 100%\n",
    "    - dead_end Breno: 100%\n",
    "    - teleporting_factor: Lukke 100%\n",
    "#### Implementing the PageRank algorithm\n",
    "    - PageRank algorithm: Lukke 100%\n",
    "#### Analyzing PageRank algorithm\n",
    "    - Perform PageRank algorithm: Breno 70% Lukke 30%\n",
    "    - The effect of spider trap: Breno 100%\n"
   ]
  },
  {
   "cell_type": "markdown",
   "source": [
    ""
   ],
   "metadata": {
    "id": "kWiDasZdJgBt"
   }
  }
 ],
 "metadata": {
  "kernelspec": {
   "display_name": "Python 3 (ipykernel)",
   "language": "python",
   "name": "python3"
  },
  "language_info": {
   "codemirror_mode": {
    "name": "ipython",
    "version": 3
   },
   "file_extension": ".py",
   "mimetype": "text/x-python",
   "name": "python",
   "nbconvert_exporter": "python",
   "pygments_lexer": "ipython3",
   "version": "3.9.9"
  },
  "colab": {
   "name": "assignment3.ipynb",
   "provenance": []
  }
 },
 "nbformat": 4,
 "nbformat_minor": 0
}