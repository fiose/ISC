{
 "cells": [
  {
   "cell_type": "markdown",
   "metadata": {
    "collapsed": true,
    "pycharm": {
     "name": "#%%\n"
    }
   },
   "source": [
    "<h1><center>Practical: Markov Chains</center></h1>\n",
    "\n",
    "<h2>Assignment 3 - PageRank </h2>\n",
    "\n",
    "In this assignment, the aim is to implement the PageRank algorithm, and analyze the effect of teleporting factor on the output of the algorithm."
   ]
  },
  {
   "cell_type": "markdown",
   "metadata": {
    "pycharm": {
     "name": "#%%\n"
    }
   },
   "source": [
    "### Importing necessary packages"
   ]
  },
  {
   "cell_type": "code",
   "execution_count": 1,
   "metadata": {},
   "outputs": [
    {
     "name": "stdout",
     "output_type": "stream",
     "text": [
      "Requirement already satisfied: matplotlib in ./env/lib/python3.9/site-packages (3.5.1)\n",
      "Requirement already satisfied: pyparsing>=2.2.1 in ./env/lib/python3.9/site-packages (from matplotlib) (3.0.7)\n",
      "Requirement already satisfied: pillow>=6.2.0 in ./env/lib/python3.9/site-packages (from matplotlib) (9.0.1)\n",
      "Requirement already satisfied: packaging>=20.0 in ./env/lib/python3.9/site-packages (from matplotlib) (21.3)\n",
      "Requirement already satisfied: fonttools>=4.22.0 in ./env/lib/python3.9/site-packages (from matplotlib) (4.29.1)\n",
      "Requirement already satisfied: kiwisolver>=1.0.1 in ./env/lib/python3.9/site-packages (from matplotlib) (1.3.2)\n",
      "Requirement already satisfied: python-dateutil>=2.7 in ./env/lib/python3.9/site-packages (from matplotlib) (2.8.2)\n",
      "Requirement already satisfied: cycler>=0.10 in ./env/lib/python3.9/site-packages (from matplotlib) (0.11.0)\n",
      "Requirement already satisfied: numpy>=1.17 in ./env/lib/python3.9/site-packages (from matplotlib) (1.22.3)\n",
      "Requirement already satisfied: six>=1.5 in ./env/lib/python3.9/site-packages (from python-dateutil>=2.7->matplotlib) (1.16.0)\n",
      "Requirement already satisfied: numpy in ./env/lib/python3.9/site-packages (1.22.3)\n"
     ]
    },
    {
     "ename": "ModuleNotFoundError",
     "evalue": "No module named 'matplotlib'",
     "output_type": "error",
     "traceback": [
      "\u001b[0;31m---------------------------------------------------------------------------\u001b[0m",
      "\u001b[0;31mModuleNotFoundError\u001b[0m                       Traceback (most recent call last)",
      "\u001b[0;32m/tmp/ipykernel_6767/76127089.py\u001b[0m in \u001b[0;36m<module>\u001b[0;34m\u001b[0m\n\u001b[1;32m      5\u001b[0m \u001b[0;32mimport\u001b[0m \u001b[0mnumpy\u001b[0m \u001b[0;32mas\u001b[0m \u001b[0mnp\u001b[0m\u001b[0;34m\u001b[0m\u001b[0;34m\u001b[0m\u001b[0m\n\u001b[1;32m      6\u001b[0m \u001b[0;32mfrom\u001b[0m \u001b[0mnumpy\u001b[0m \u001b[0;32mimport\u001b[0m \u001b[0mlinalg\u001b[0m \u001b[0;32mas\u001b[0m \u001b[0mLA\u001b[0m\u001b[0;34m\u001b[0m\u001b[0;34m\u001b[0m\u001b[0m\n\u001b[0;32m----> 7\u001b[0;31m \u001b[0;32mimport\u001b[0m \u001b[0mmatplotlib\u001b[0m\u001b[0;34m.\u001b[0m\u001b[0mpyplot\u001b[0m \u001b[0;32mas\u001b[0m \u001b[0mplt\u001b[0m\u001b[0;34m\u001b[0m\u001b[0;34m\u001b[0m\u001b[0m\n\u001b[0m",
      "\u001b[0;31mModuleNotFoundError\u001b[0m: No module named 'matplotlib'"
     ]
    }
   ],
   "source": [
    "# if you have already installed numpy and matplotlib, you can skip the next two lines\n",
    "!pip install matplotlib\n",
    "!pip install numpy\n",
    "\n",
    "import numpy as np\n",
    "from numpy import linalg as LA\n",
    "import matplotlib.pyplot as plt"
   ]
  },
  {
   "cell_type": "code",
   "execution_count": 2,
   "metadata": {},
   "outputs": [],
   "source": [
    "# constructing the connectivity matrix\n",
    "A = np.array([[1,1,0],[1,0,1],[0,0,1]])"
   ]
  },
  {
   "cell_type": "markdown",
   "metadata": {},
   "source": [
    "## Implementing the elements of the PageRank algorithm\n",
    "\n",
    "\n",
    "In order to perform the algorithm, we define the following functions:\n",
    "- normalize_conn_matrix: computing the transition probability from the connecting matrix,\n",
    "- appr_stationary: compute the stationary distribution, based on x(t) = x(t-1) . T,\n",
    "- dead_end: to prevent dead end problem,\n",
    "- teleporting_factor: to resolve spider trap, \n",
    "\n",
    "Hint. you may use \"np.matmul\" function for the matrix multiplication."
   ]
  },
  {
   "cell_type": "code",
   "execution_count": 18,
   "metadata": {},
   "outputs": [
    {
     "name": "stdout",
     "output_type": "stream",
     "text": [
      "[1.  0.5]\n",
      "[[1 0]\n",
      " [1 1]]\n",
      "[[1.  0. ]\n",
      " [0.5 0.5]]\n"
     ]
    },
    {
     "data": {
      "text/plain": [
       "array([[1. , 0. ],\n",
       "       [0.5, 0.5]])"
      ]
     },
     "execution_count": 18,
     "metadata": {},
     "output_type": "execute_result"
    }
   ],
   "source": [
    "def normalize_conn_matrix(A):\n",
    "    \"\"\"\n",
    "    A: (n*n) connectivity matrix\n",
    "    T: transition probabilities\n",
    "    \"\"\"\n",
    "    # Insert your code here\n",
    "    n = A.shape[0]\n",
    "    T = np.zeros((n,n))\n",
    "\n",
    "    # Calculate probability for each row\n",
    "    probs = 1/A.sum(axis=1)\n",
    "    print(probs)\n",
    "    print(A)\n",
    "\n",
    "    # Create transition probabilities\n",
    "    T = np.transpose(np.transpose(A)*probs)\n",
    "    print(T)\n",
    "    \n",
    "    return T\n",
    "\n",
    "normalize_conn_matrix(np.array([[1,0],[1,1]]))"
   ]
  },
  {
   "cell_type": "code",
   "execution_count": 4,
   "metadata": {},
   "outputs": [
    {
     "ename": "NameError",
     "evalue": "name 'normalize_conn_matrix' is not defined",
     "output_type": "error",
     "traceback": [
      "\u001b[1;31m---------------------------------------------------------------------------\u001b[0m",
      "\u001b[1;31mNameError\u001b[0m                                 Traceback (most recent call last)",
      "Input \u001b[1;32mIn [4]\u001b[0m, in \u001b[0;36m<cell line: 2>\u001b[1;34m()\u001b[0m\n\u001b[0;32m      1\u001b[0m \u001b[38;5;66;03m# Test your code\u001b[39;00m\n\u001b[1;32m----> 2\u001b[0m T \u001b[38;5;241m=\u001b[39m \u001b[43mnormalize_conn_matrix\u001b[49m(A)\n\u001b[0;32m      3\u001b[0m \u001b[38;5;28mprint\u001b[39m(T)\n\u001b[0;32m      5\u001b[0m \u001b[38;5;28mprint\u001b[39m(\u001b[38;5;124m\"\u001b[39m\u001b[38;5;130;01m\\n\u001b[39;00m\u001b[38;5;124m Expected solution:\u001b[39m\u001b[38;5;124m\"\u001b[39m)\n",
      "\u001b[1;31mNameError\u001b[0m: name 'normalize_conn_matrix' is not defined"
     ]
    }
   ],
   "source": [
    "# Test your code\n",
    "T = normalize_conn_matrix(A)\n",
    "print(T)\n",
    "\n",
    "print(\"\\n Expected solution:\")\n",
    "print(\"[[0.5 0.5 0. ] \\n [0.5 0.  0.5] \\n  [0.  0.  1. ]]\")"
   ]
  },
  {
   "cell_type": "code",
   "execution_count": null,
   "metadata": {},
   "outputs": [],
   "source": []
  },
  {
   "cell_type": "code",
   "execution_count": null,
   "metadata": {},
   "outputs": [],
   "source": [
    "def appr_stationary(T, maxiter=20):\n",
    "    \"\"\"\n",
    "    Lukke\n",
    "    T: transition probability,\n",
    "    maxiter: number of steps\n",
    "    x_m: the state vector\n",
    "    \"\"\"\n",
    "    \n",
    "    # Insert your code here\n",
    "    \n",
    "    \n",
    "    \n",
    "    return x_m"
   ]
  },
  {
   "cell_type": "code",
   "execution_count": null,
   "metadata": {},
   "outputs": [],
   "source": [
    "# Test your code\n",
    "st_dist = appr_stationary(T, maxiter=20)\n",
    "print(st_dist)\n",
    "\n",
    "print(\"\\n Expected solution:\")\n",
    "print(\"[[0.00430107 0.00265821 0.99304072]]\")\n"
   ]
  },
  {
   "cell_type": "code",
   "execution_count": null,
   "metadata": {},
   "outputs": [],
   "source": []
  },
  {
   "cell_type": "code",
   "execution_count": null,
   "metadata": {},
   "outputs": [],
   "source": [
    "def dead_end(A):\n",
    "    \"\"\"\n",
    "    A: connecting matrix\n",
    "    A_new: connecting matrix by resolving the dead end problem\n",
    "    \"\"\"\n",
    "    # Insert your code here\n",
    "    \n",
    "    \n",
    "    \n",
    "    return A_new"
   ]
  },
  {
   "cell_type": "code",
   "execution_count": null,
   "metadata": {},
   "outputs": [],
   "source": [
    "print(dead_end(A))\n",
    "\n",
    "print(\"\\n Expected output:\")\n",
    "print(\"[[1 1 0] \\n [1 0 1] \\n [0 0 1]]\")"
   ]
  },
  {
   "cell_type": "code",
   "execution_count": null,
   "metadata": {},
   "outputs": [],
   "source": []
  },
  {
   "cell_type": "code",
   "execution_count": null,
   "metadata": {},
   "outputs": [],
   "source": [
    "def teleporting_factor(T, alpha=0.9):\n",
    "    \"\"\"\n",
    "    Lukke\n",
    "    T: transition probability,\n",
    "    alpha: teleporting factor.\n",
    "    T_new: transition probability after implementing teleporting factor\n",
    "    \"\"\"\n",
    "    \n",
    "    # Insert your code here\n",
    "    \n",
    "    \n",
    "    \n",
    "    return T_new"
   ]
  },
  {
   "cell_type": "code",
   "execution_count": null,
   "metadata": {},
   "outputs": [],
   "source": [
    "print(teleporting_factor(T))\n",
    "\n",
    "print(\"\\n Expected output:\")\n",
    "print(\"[[0.48333333 0.48333333 0.03333333] \\n [0.48333333 0.03333333 0.48333333] \\n [0.03333333 0.03333333 0.93333333]]\")"
   ]
  },
  {
   "cell_type": "markdown",
   "metadata": {},
   "source": [
    "## PageRank algorithm \n",
    "\n",
    "Here, we use the functions, defined above, to perform PageRank algorithm.\n",
    "   1) resolve the dead end problem,<br>\n",
    "   2) compute the transition probability, <br>\n",
    "   3) use teleporting factor to prevent spider trap,<br>\n",
    "   4) compute the stationary distribuion.<br>"
   ]
  },
  {
   "cell_type": "code",
   "execution_count": null,
   "metadata": {},
   "outputs": [],
   "source": [
    "def PageRank(A, alpha=0.8, maxiter=20):\n",
    "    \"\"\"\n",
    "    Lukke\n",
    "    A: connectivity matrix,\n",
    "    alpha: teleporting factor,\n",
    "    maxiter: number of steps (for approximating stationary distribution)\n",
    "    st_dist: an approximation for the stationary distribution \n",
    "    \"\"\"\n",
    "    \n",
    "    # Insert your code here\n",
    "    \n",
    "    \n",
    "    \n",
    "    return st_dist"
   ]
  },
  {
   "cell_type": "code",
   "execution_count": null,
   "metadata": {},
   "outputs": [],
   "source": [
    "print(PageRank(A, 0.9, 30))\n",
    "\n",
    "print(\"\\n Expected output:\")\n",
    "print(\"[[0.13910008 0.09593028 0.76496964]]\")"
   ]
  },
  {
   "cell_type": "code",
   "execution_count": null,
   "metadata": {},
   "outputs": [],
   "source": []
  },
  {
   "cell_type": "markdown",
   "metadata": {},
   "source": [
    "<h1><center>Analyzing PageRank algorithm</center></h1>\n",
    "\n",
    "<h2>Performing PageRank algorithm on the following network </h2>\n",
    "\n",
    "![Cat](graph.png)\n",
    "\n",
    "In the following, please perform:\n",
    "\n",
    "- Performing PageRank algorithm on the network,\n",
    "- Investigating the effect of teleporting "
   ]
  },
  {
   "cell_type": "markdown",
   "metadata": {},
   "source": [
    "### 1) Perform PageRank algorithm\n",
    "\n",
    "Apply PageRank on the network (alpha = 0.85), and report the pageranks,\n",
    "   1) Construct the connectivity matrix, <br>\n",
    "   2) Apply PageRank algorithm (i.e. function \"PageRank\")"
   ]
  },
  {
   "cell_type": "code",
   "execution_count": null,
   "metadata": {},
   "outputs": [],
   "source": [
    "# Insert your code here\n",
    "\n"
   ]
  },
  {
   "cell_type": "markdown",
   "metadata": {},
   "source": [
    "### 2) The effect of spider trap\n",
    "\n",
    "In order to see the effect of spider trap on the output, please perform PageRank algorithm with different alpha values. <br>\n",
    "Run the algorithm with alpha = 1 (corresponding to not using the teleporting factor):<br>\n",
    "    - compare its output with alpha = 0.85, <br>\n",
    "    - please discuss the effect of teleporting factor on the stationary distribution. \n",
    "    "
   ]
  },
  {
   "cell_type": "code",
   "execution_count": null,
   "metadata": {},
   "outputs": [],
   "source": [
    "# Insert your code here\n",
    "\n"
   ]
  },
  {
   "cell_type": "markdown",
   "metadata": {},
   "source": [
    "\n",
    "Write at the top of the first page of your report: “Introduction to Scientific Computing, Practical Markov Chains”, followed by your names, student numbers, and the date when you hand in the report.\n",
    "\n",
    "Since you work in pairs, you need to include information in your report about your individual contributions. For each assignment, indicate the contribution (mention percentages) for each of you in terms of tasks performed (program design, program implementation, answering questions posed, writing the report). All files have to be handed in as a single archive (called YourName.zip), where “YourName” is the concatenation of your last names. See Nestor for the address to which you have to send the archive."
   ]
  },
  {
   "cell_type": "code",
   "execution_count": null,
   "metadata": {},
   "outputs": [],
   "source": []
  }
 ],
 "metadata": {
  "kernelspec": {
   "display_name": "Python 3 (ipykernel)",
   "language": "python",
   "name": "python3"
  },
  "language_info": {
   "codemirror_mode": {
    "name": "ipython",
    "version": 3
   },
   "file_extension": ".py",
   "mimetype": "text/x-python",
   "name": "python",
   "nbconvert_exporter": "python",
   "pygments_lexer": "ipython3",
   "version": "3.9.9"
  }
 },
 "nbformat": 4,
 "nbformat_minor": 1
}
