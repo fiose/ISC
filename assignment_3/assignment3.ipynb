{
 "cells": [
  {
   "cell_type": "markdown",
   "metadata": {
    "collapsed": true,
    "pycharm": {
     "name": "#%%\n"
    }
   },
   "source": [
    "<h1><center>Practical: Markov Chains</center></h1>\n",
    "\n",
    "<h2>Assignment 3 - PageRank </h2>\n",
    "\n",
    "In this assignment, the aim is to implement the PageRank algorithm, and analyze the effect of teleporting factor on the output of the algorithm."
   ]
  },
  {
   "cell_type": "markdown",
   "metadata": {
    "pycharm": {
     "name": "#%%\n"
    }
   },
   "source": [
    "### Importing necessary packages"
   ]
  },
  {
   "cell_type": "code",
   "execution_count": 1,
   "metadata": {},
   "outputs": [
    {
     "name": "stdout",
     "output_type": "stream",
     "text": [
      "Requirement already satisfied: matplotlib in ./env/lib/python3.9/site-packages (3.5.1)\n",
      "Requirement already satisfied: pyparsing>=2.2.1 in ./env/lib/python3.9/site-packages (from matplotlib) (3.0.7)\n",
      "Requirement already satisfied: pillow>=6.2.0 in ./env/lib/python3.9/site-packages (from matplotlib) (9.0.1)\n",
      "Requirement already satisfied: packaging>=20.0 in ./env/lib/python3.9/site-packages (from matplotlib) (21.3)\n",
      "Requirement already satisfied: fonttools>=4.22.0 in ./env/lib/python3.9/site-packages (from matplotlib) (4.29.1)\n",
      "Requirement already satisfied: kiwisolver>=1.0.1 in ./env/lib/python3.9/site-packages (from matplotlib) (1.3.2)\n",
      "Requirement already satisfied: python-dateutil>=2.7 in ./env/lib/python3.9/site-packages (from matplotlib) (2.8.2)\n",
      "Requirement already satisfied: cycler>=0.10 in ./env/lib/python3.9/site-packages (from matplotlib) (0.11.0)\n",
      "Requirement already satisfied: numpy>=1.17 in ./env/lib/python3.9/site-packages (from matplotlib) (1.22.3)\n",
      "Requirement already satisfied: six>=1.5 in ./env/lib/python3.9/site-packages (from python-dateutil>=2.7->matplotlib) (1.16.0)\n",
      "Requirement already satisfied: numpy in ./env/lib/python3.9/site-packages (1.22.3)\n"
     ]
    },
    {
     "ename": "ModuleNotFoundError",
     "evalue": "No module named 'matplotlib'",
     "output_type": "error",
     "traceback": [
      "\u001B[0;31m---------------------------------------------------------------------------\u001B[0m",
      "\u001B[0;31mModuleNotFoundError\u001B[0m                       Traceback (most recent call last)",
      "\u001B[0;32m/tmp/ipykernel_6767/76127089.py\u001B[0m in \u001B[0;36m<module>\u001B[0;34m\u001B[0m\n\u001B[1;32m      5\u001B[0m \u001B[0;32mimport\u001B[0m \u001B[0mnumpy\u001B[0m \u001B[0;32mas\u001B[0m \u001B[0mnp\u001B[0m\u001B[0;34m\u001B[0m\u001B[0;34m\u001B[0m\u001B[0m\n\u001B[1;32m      6\u001B[0m \u001B[0;32mfrom\u001B[0m \u001B[0mnumpy\u001B[0m \u001B[0;32mimport\u001B[0m \u001B[0mlinalg\u001B[0m \u001B[0;32mas\u001B[0m \u001B[0mLA\u001B[0m\u001B[0;34m\u001B[0m\u001B[0;34m\u001B[0m\u001B[0m\n\u001B[0;32m----> 7\u001B[0;31m \u001B[0;32mimport\u001B[0m \u001B[0mmatplotlib\u001B[0m\u001B[0;34m.\u001B[0m\u001B[0mpyplot\u001B[0m \u001B[0;32mas\u001B[0m \u001B[0mplt\u001B[0m\u001B[0;34m\u001B[0m\u001B[0;34m\u001B[0m\u001B[0m\n\u001B[0m",
      "\u001B[0;31mModuleNotFoundError\u001B[0m: No module named 'matplotlib'"
     ]
    }
   ],
   "source": [
    "# if you have already installed numpy and matplotlib, you can skip the next two lines\n",
    "!pip install matplotlib\n",
    "!pip install numpy\n",
    "\n",
    "import numpy as np\n",
    "from numpy import linalg as LA\n",
    "import matplotlib.pyplot as plt"
   ]
  },
  {
   "cell_type": "code",
   "execution_count": 2,
   "metadata": {},
   "outputs": [],
   "source": [
    "# constructing the connectivity matrix\n",
    "A = np.array([[1,1,0],[1,0,1],[0,0,1]])"
   ]
  },
  {
   "cell_type": "markdown",
   "metadata": {},
   "source": [
    "## Implementing the elements of the PageRank algorithm\n",
    "\n",
    "\n",
    "In order to perform the algorithm, we define the following functions:\n",
    "- normalize_conn_matrix: computing the transition probability from the connecting matrix,\n",
    "- appr_stationary: compute the stationary distribution, based on x(t) = x(t-1) . T,\n",
    "- dead_end: to prevent dead end problem,\n",
    "- teleporting_factor: to resolve spider trap, \n",
    "\n",
    "Hint. you may use \"np.matmul\" function for the matrix multiplication."
   ]
  },
  {
   "cell_type": "code",
   "execution_count": 26,
   "metadata": {},
   "outputs": [
    {
     "data": {
      "text/plain": "array([[1. , 0. ],\n       [0.5, 0.5]])"
     },
     "execution_count": 26,
     "metadata": {},
     "output_type": "execute_result"
    }
   ],
   "source": [
    "def normalize_conn_matrix(A):\n",
    "    \"\"\"\n",
    "    A: (n*n) connectivity matrix\n",
    "    T: transition probabilities\n",
    "    \"\"\"\n",
    "    # Insert your code here\n",
    "    n = A.shape[0]\n",
    "    T = np.zeros((n,n))\n",
    "\n",
    "    # Calculate probability for each row\n",
    "    probs = 1/A.sum(axis=1)\n",
    "\n",
    "    # Create transition probabilities\n",
    "    T = np.transpose(np.transpose(A)*probs)\n",
    "    \n",
    "    return T\n",
    "\n",
    "normalize_conn_matrix(np.array([[1,0],[1,1]]))"
   ]
  },
  {
   "cell_type": "code",
   "execution_count": 27,
   "metadata": {},
   "outputs": [
    {
     "name": "stdout",
     "output_type": "stream",
     "text": [
      "[[0.5 0.5 0. ]\n",
      " [0.5 0.  0.5]\n",
      " [0.  0.  1. ]]\n",
      "\n",
      " Expected solution:\n",
      "[[0.5 0.5 0. ] \n",
      " [0.5 0.  0.5] \n",
      "  [0.  0.  1. ]]\n"
     ]
    }
   ],
   "source": [
    "# Test your code\n",
    "T = normalize_conn_matrix(A)\n",
    "print(T)\n",
    "\n",
    "print(\"\\n Expected solution:\")\n",
    "print(\"[[0.5 0.5 0. ] \\n [0.5 0.  0.5] \\n  [0.  0.  1. ]]\")"
   ]
  },
  {
   "cell_type": "code",
   "execution_count": null,
   "metadata": {},
   "outputs": [],
   "source": []
  },
  {
   "cell_type": "code",
   "execution_count": 45,
   "metadata": {},
   "outputs": [],
   "source": [
    "def appr_stationary(T, maxiter=20):\n",
    "    \"\"\"\n",
    "    Lukke\n",
    "    T: transition probability,\n",
    "    maxiter: number of steps\n",
    "    x_m: the state vector\n",
    "    \"\"\"\n",
    "    n = len(T[0])\n",
    "    x = [[1/n] * n]\n",
    "    for i in range(1, maxiter+1):\n",
    "        x.append(np.matmul(x[i-1], T))\n",
    "    x_m = x[maxiter]\n",
    "    return x_m"
   ]
  },
  {
   "cell_type": "code",
   "execution_count": 46,
   "metadata": {},
   "outputs": [
    {
     "name": "stdout",
     "output_type": "stream",
     "text": [
      "[0.00563018 0.00347964 0.99089019]\n",
      "\n",
      " Expected solution:\n",
      "[[0.00430107 0.00265821 0.99304072]]\n"
     ]
    }
   ],
   "source": [
    "# Test your code\n",
    "st_dist = appr_stationary(T, maxiter=20)\n",
    "print(st_dist)\n",
    "\n",
    "print(\"\\n Expected solution:\")\n",
    "print(\"[[0.00430107 0.00265821 0.99304072]]\")\n"
   ]
  },
  {
   "cell_type": "code",
   "execution_count": null,
   "metadata": {},
   "outputs": [],
   "source": []
  },
  {
   "cell_type": "code",
   "execution_count": null,
   "metadata": {},
   "outputs": [],
   "source": [
    "def dead_end(A):\n",
    "    \"\"\"\n",
    "    A: connecting matrix\n",
    "    A_new: connecting matrix by resolving the dead end problem\n",
    "    \"\"\"\n",
    "    # Insert your code here\n",
    "    \n",
    "    \n",
    "    \n",
    "    return A_new"
   ]
  },
  {
   "cell_type": "code",
   "execution_count": null,
   "metadata": {},
   "outputs": [],
   "source": [
    "print(dead_end(A))\n",
    "\n",
    "print(\"\\n Expected output:\")\n",
    "print(\"[[1 1 0] \\n [1 0 1] \\n [0 0 1]]\")"
   ]
  },
  {
   "cell_type": "code",
   "execution_count": null,
   "metadata": {},
   "outputs": [],
   "source": []
  },
  {
   "cell_type": "code",
   "execution_count": 47,
   "metadata": {},
   "outputs": [],
   "source": [
    "def teleporting_factor(T, alpha=0.9):\n",
    "    \"\"\"\n",
    "    Lukke\n",
    "    T: transition probability,\n",
    "    alpha: teleporting factor.\n",
    "    T_new: transition probability after implementing teleporting factor\n",
    "    \"\"\"\n",
    "    \n",
    "    # Insert your code here\n",
    "    n = len(T[0])\n",
    "    T_new = np.zeros((n,n))\n",
    "    for r in range(n):\n",
    "        for c in range(n):\n",
    "            T_new[r][c] = alpha*T[r][c] + ((1-alpha) * (1/n))\n",
    "    return T_new"
   ]
  },
  {
   "cell_type": "code",
   "execution_count": 48,
   "metadata": {},
   "outputs": [
    {
     "name": "stdout",
     "output_type": "stream",
     "text": [
      "[[0.48333333 0.48333333 0.03333333]\n",
      " [0.48333333 0.03333333 0.48333333]\n",
      " [0.03333333 0.03333333 0.93333333]]\n",
      "\n",
      " Expected output:\n",
      "[[0.48333333 0.48333333 0.03333333] \n",
      " [0.48333333 0.03333333 0.48333333] \n",
      " [0.03333333 0.03333333 0.93333333]]\n"
     ]
    }
   ],
   "source": [
    "print(teleporting_factor(T))\n",
    "\n",
    "print(\"\\n Expected output:\")\n",
    "print(\"[[0.48333333 0.48333333 0.03333333] \\n [0.48333333 0.03333333 0.48333333] \\n [0.03333333 0.03333333 0.93333333]]\")"
   ]
  },
  {
   "cell_type": "markdown",
   "metadata": {},
   "source": [
    "## PageRank algorithm \n",
    "\n",
    "Here, we use the functions, defined above, to perform PageRank algorithm.\n",
    "   1) resolve the dead end problem,<br>\n",
    "   2) compute the transition probability, <br>\n",
    "   3) use teleporting factor to prevent spider trap,<br>\n",
    "   4) compute the stationary distribuion.<br>"
   ]
  },
  {
   "cell_type": "code",
   "execution_count": null,
   "metadata": {},
   "outputs": [],
   "source": [
    "def PageRank(A, alpha=0.8, maxiter=20):\n",
    "    \"\"\"\n",
    "    Lukke\n",
    "    A: connectivity matrix,\n",
    "    alpha: teleporting factor,\n",
    "    maxiter: number of steps (for approximating stationary distribution)\n",
    "    st_dist: an approximation for the stationary distribution \n",
    "    \"\"\"\n",
    "    \n",
    "    # Insert your code here\n",
    "    \n",
    "    \n",
    "    \n",
    "    return st_dist"
   ]
  },
  {
   "cell_type": "code",
   "execution_count": null,
   "metadata": {},
   "outputs": [],
   "source": [
    "print(PageRank(A, 0.9, 30))\n",
    "\n",
    "print(\"\\n Expected output:\")\n",
    "print(\"[[0.13910008 0.09593028 0.76496964]]\")"
   ]
  },
  {
   "cell_type": "code",
   "execution_count": null,
   "metadata": {},
   "outputs": [],
   "source": []
  },
  {
   "cell_type": "markdown",
   "metadata": {},
   "source": [
    "<h1><center>Analyzing PageRank algorithm</center></h1>\n",
    "\n",
    "<h2>Performing PageRank algorithm on the following network </h2>\n",
    "\n",
    "![Cat](graph.png)\n",
    "\n",
    "In the following, please perform:\n",
    "\n",
    "- Performing PageRank algorithm on the network,\n",
    "- Investigating the effect of teleporting "
   ]
  },
  {
   "cell_type": "markdown",
   "metadata": {},
   "source": [
    "### 1) Perform PageRank algorithm\n",
    "\n",
    "Apply PageRank on the network (alpha = 0.85), and report the pageranks,\n",
    "   1) Construct the connectivity matrix, <br>\n",
    "   2) Apply PageRank algorithm (i.e. function \"PageRank\")"
   ]
  },
  {
   "cell_type": "code",
   "execution_count": null,
   "metadata": {},
   "outputs": [],
   "source": [
    "# Insert your code here\n",
    "\n"
   ]
  },
  {
   "cell_type": "markdown",
   "metadata": {},
   "source": [
    "### 2) The effect of spider trap\n",
    "\n",
    "In order to see the effect of spider trap on the output, please perform PageRank algorithm with different alpha values. <br>\n",
    "Run the algorithm with alpha = 1 (corresponding to not using the teleporting factor):<br>\n",
    "    - compare its output with alpha = 0.85, <br>\n",
    "    - please discuss the effect of teleporting factor on the stationary distribution. \n",
    "    "
   ]
  },
  {
   "cell_type": "code",
   "execution_count": null,
   "metadata": {},
   "outputs": [],
   "source": [
    "# Insert your code here\n",
    "\n"
   ]
  },
  {
   "cell_type": "markdown",
   "metadata": {},
   "source": [
    "\n",
    "Write at the top of the first page of your report: “Introduction to Scientific Computing, Practical Markov Chains”, followed by your names, student numbers, and the date when you hand in the report.\n",
    "\n",
    "Since you work in pairs, you need to include information in your report about your individual contributions. For each assignment, indicate the contribution (mention percentages) for each of you in terms of tasks performed (program design, program implementation, answering questions posed, writing the report). All files have to be handed in as a single archive (called YourName.zip), where “YourName” is the concatenation of your last names. See Nestor for the address to which you have to send the archive."
   ]
  },
  {
   "cell_type": "code",
   "execution_count": null,
   "metadata": {},
   "outputs": [],
   "source": []
  }
 ],
 "metadata": {
  "kernelspec": {
   "display_name": "Python 3 (ipykernel)",
   "language": "python",
   "name": "python3"
  },
  "language_info": {
   "codemirror_mode": {
    "name": "ipython",
    "version": 3
   },
   "file_extension": ".py",
   "mimetype": "text/x-python",
   "name": "python",
   "nbconvert_exporter": "python",
   "pygments_lexer": "ipython3",
   "version": "3.9.9"
  }
 },
 "nbformat": 4,
 "nbformat_minor": 1
}